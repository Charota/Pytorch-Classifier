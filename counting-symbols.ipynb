{
 "cells": [
  {
   "cell_type": "code",
   "execution_count": 1,
   "id": "0ac793de-8817-49c8-aca3-e3feb4dfdf40",
   "metadata": {},
   "outputs": [],
   "source": [
    "import cv2\n",
    "import json\n",
    "import os "
   ]
  },
  {
   "cell_type": "code",
   "execution_count": 2,
   "id": "62feccdb-0d8c-479f-b95f-7a9c2de7e31a",
   "metadata": {},
   "outputs": [
    {
     "name": "stdout",
     "output_type": "stream",
     "text": [
      "10\n"
     ]
    }
   ],
   "source": [
    "jsons_dirs_link = '/home/user/Desktop/NNPhotomath/dataSets/aida_calc_dataset/'\n",
    "jsons_links = []\n",
    "for i in range(1,11):\n",
    "    jsons_links.append(jsons_dirs_link + f'batch_{i}/JSON/kaggle_data_{i}.json')\n",
    "    \n",
    "print(len(jsons_links))"
   ]
  },
  {
   "cell_type": "code",
   "execution_count": 17,
   "id": "516d702f-3f6e-432b-b3cd-5a51f5281fc0",
   "metadata": {},
   "outputs": [],
   "source": [
    "chars_amount = {}\n",
    "for i in range(len(jsons_links)):\n",
    "    json_file = open(jsons_links[i])   #i is batch number\n",
    "    json_entity = json.load(json_file) #len(json_entity) => 10 000\n",
    "    for j in range(len(json_entity)):\n",
    "\n",
    "        for k in range(len(json_entity[j][\"image_data\"][\"visible_latex_chars\"])):\n",
    "            char_name = json_entity[j][\"image_data\"][\"visible_latex_chars\"][k]\n",
    "            if char_name in chars_amount:   \n",
    "                chars_amount[json_entity[j][\"image_data\"][\"visible_latex_chars\"][k]] += 1\n",
    "            else:\n",
    "                chars_amount[json_entity[j][\"image_data\"][\"visible_latex_chars\"][k]] = 1\n",
    "            "
   ]
  },
  {
   "cell_type": "code",
   "execution_count": 19,
   "id": "6d1bf1cf-86d7-4e62-a678-e32988525fe2",
   "metadata": {},
   "outputs": [
    {
     "data": {
      "text/plain": [
       "['+',\n",
       " '-',\n",
       " '.',\n",
       " '/',\n",
       " '0',\n",
       " '1',\n",
       " '2',\n",
       " '3',\n",
       " '4',\n",
       " '5',\n",
       " '6',\n",
       " '7',\n",
       " '8',\n",
       " '9',\n",
       " '=',\n",
       " '\\\\cdot',\n",
       " '\\\\cos',\n",
       " '\\\\cot',\n",
       " '\\\\csc',\n",
       " '\\\\frac',\n",
       " '\\\\infty',\n",
       " '\\\\left(',\n",
       " '\\\\left|',\n",
       " '\\\\lim_',\n",
       " '\\\\ln',\n",
       " '\\\\log',\n",
       " '\\\\pi',\n",
       " '\\\\right)',\n",
       " '\\\\right|',\n",
       " '\\\\sec',\n",
       " '\\\\sin',\n",
       " '\\\\sqrt',\n",
       " '\\\\tan',\n",
       " '\\\\theta',\n",
       " '\\\\to',\n",
       " 'a',\n",
       " 'b',\n",
       " 'c',\n",
       " 'd',\n",
       " 'e',\n",
       " 'g',\n",
       " 'h',\n",
       " 'k',\n",
       " 'n',\n",
       " 'p',\n",
       " 'r',\n",
       " 's',\n",
       " 't',\n",
       " 'u',\n",
       " 'v',\n",
       " 'w',\n",
       " 'x',\n",
       " 'y',\n",
       " 'z']"
      ]
     },
     "execution_count": 19,
     "metadata": {},
     "output_type": "execute_result"
    }
   ],
   "source": [
    "sorted(chars_amount)"
   ]
  },
  {
   "cell_type": "code",
   "execution_count": 20,
   "id": "18d53523-f42b-49f3-a81f-8ace906515df",
   "metadata": {},
   "outputs": [
    {
     "data": {
      "text/plain": [
       "{'\\\\lim_': 111223,\n",
       " 'a': 15615,\n",
       " '\\\\to': 111223,\n",
       " '\\\\frac': 140649,\n",
       " '\\\\pi': 43990,\n",
       " '4': 42610,\n",
       " 'd': 44148,\n",
       " '\\\\left(': 54150,\n",
       " '\\\\sin': 39494,\n",
       " '+': 113617,\n",
       " '-': 95911,\n",
       " '6': 41671,\n",
       " '\\\\sec': 11581,\n",
       " '\\\\right)': 54150,\n",
       " 'w': 30188,\n",
       " '/': 25945,\n",
       " '5': 41726,\n",
       " '\\\\tan': 34033,\n",
       " '2': 91587,\n",
       " '3': 62734,\n",
       " 'e': 6420,\n",
       " 'b': 15527,\n",
       " '7': 41773,\n",
       " '\\\\cos': 28729,\n",
       " '\\\\theta': 14726,\n",
       " '8': 41951,\n",
       " '=': 9801,\n",
       " 'x': 63050,\n",
       " '9': 42619,\n",
       " '1': 35085,\n",
       " 'y': 29048,\n",
       " 'h': 31189,\n",
       " 'k': 15634,\n",
       " 'g': 15613,\n",
       " '\\\\csc': 6827,\n",
       " '\\\\infty': 21187,\n",
       " '0': 19159,\n",
       " '\\\\sqrt': 12140,\n",
       " 'r': 14753,\n",
       " '\\\\ln': 10980,\n",
       " 'n': 11906,\n",
       " 'u': 30337,\n",
       " '\\\\cot': 3080,\n",
       " '\\\\left|': 4407,\n",
       " '\\\\right|': 4407,\n",
       " 'p': 15474,\n",
       " 't': 26317,\n",
       " 'z': 16233,\n",
       " '\\\\log': 15222,\n",
       " 'v': 15460,\n",
       " 's': 14038,\n",
       " 'c': 15571,\n",
       " '\\\\cdot': 1264,\n",
       " '.': 55}"
      ]
     },
     "execution_count": 20,
     "metadata": {},
     "output_type": "execute_result"
    }
   ],
   "source": [
    "chars_amount"
   ]
  },
  {
   "cell_type": "code",
   "execution_count": null,
   "id": "f783c59d-b817-480c-9c7b-93bbc6bb6d2e",
   "metadata": {},
   "outputs": [],
   "source": []
  }
 ],
 "metadata": {
  "kernelspec": {
   "display_name": "Python 3 (ipykernel)",
   "language": "python",
   "name": "python3"
  },
  "language_info": {
   "codemirror_mode": {
    "name": "ipython",
    "version": 3
   },
   "file_extension": ".py",
   "mimetype": "text/x-python",
   "name": "python",
   "nbconvert_exporter": "python",
   "pygments_lexer": "ipython3",
   "version": "3.11.4"
  }
 },
 "nbformat": 4,
 "nbformat_minor": 5
}
