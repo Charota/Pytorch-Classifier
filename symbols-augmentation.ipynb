{
 "cells": [
  {
   "cell_type": "code",
   "execution_count": 2,
   "id": "dc88338c-802f-4730-9ad8-4f2066430450",
   "metadata": {},
   "outputs": [],
   "source": [
    "import cv2\n",
    "import json\n",
    "import os"
   ]
  },
  {
   "cell_type": "code",
   "execution_count": 3,
   "id": "03eaf49a-33b5-433c-84bf-ffa4e34964ea",
   "metadata": {},
   "outputs": [],
   "source": [
    "import random\n",
    "import numpy as np"
   ]
  },
  {
   "cell_type": "code",
   "execution_count": 4,
   "id": "16a5bf5e-16fd-48b2-aef4-4e57fb85b6d6",
   "metadata": {},
   "outputs": [],
   "source": [
    "chars_amount = {}\n",
    "amount_batches = 191\n",
    "all_batches_amount = amount_batches\n",
    "augmentated_amount = 0\n",
    "augmentated_batches = 0\n",
    "new_batches = 1"
   ]
  },
  {
   "cell_type": "code",
   "execution_count": 5,
   "id": "ded7d575-4b76-44e8-ad7a-27d554524653",
   "metadata": {},
   "outputs": [],
   "source": [
    "aida_batches_path = '/home/user/Desktop/NNPhotomath/dataSets/aida_classification/'\n",
    "augmentated_chars_path = aida_batches_path + str(augmentated_batches)"
   ]
  },
  {
   "cell_type": "code",
   "execution_count": 5,
   "id": "685bbb89-680a-4d2a-8266-eef4dfe1720f",
   "metadata": {},
   "outputs": [],
   "source": [
    "path_exists_aida = os.path.exists(augmentated_chars_path)\n",
    "if not augmentated_chars_path:\n",
    "    os.mkdir(augmentated_chars_path)"
   ]
  },
  {
   "cell_type": "code",
   "execution_count": 6,
   "id": "3f42f07c-99b0-4ab8-9c51-a2173bb2490f",
   "metadata": {},
   "outputs": [],
   "source": [
    "#Считаем общее количество всех символов\n",
    "for i in range(1,amount_batches):\n",
    "    current_path_all_files = os.listdir(aida_batches_path+'/' + str(i))\n",
    "    for j in range(len(current_path_all_files)):\n",
    "        current_char = current_path_all_files[j].split('_')[0]\n",
    "        if current_char in chars_amount:\n",
    "            chars_amount[current_char] += 1\n",
    "        else:\n",
    "            chars_amount[current_char] = 1"
   ]
  },
  {
   "cell_type": "code",
   "execution_count": 7,
   "id": "896a6077-9944-44b8-92ea-4ed74a0f5586",
   "metadata": {},
   "outputs": [
    {
     "data": {
      "text/plain": [
       "{'\\\\frac': 139776,\n",
       " 'x': 62692,\n",
       " '\\\\to': 110553,\n",
       " 'u': 30155,\n",
       " '\\\\lim': 110552,\n",
       " 'c': 15505,\n",
       " 'h': 31011,\n",
       " '8': 41654,\n",
       " '\\\\theta': 14635,\n",
       " 'g': 15505,\n",
       " '\\\\right)': 53828,\n",
       " '=': 9734,\n",
       " '2': 91040,\n",
       " '4': 42325,\n",
       " '\\\\tan': 33847,\n",
       " '\\\\pi': 43704,\n",
       " '+': 112942,\n",
       " '': 25786,\n",
       " 'y': 28827,\n",
       " 'p': 15381,\n",
       " '\\\\sin': 39269,\n",
       " '7': 41522,\n",
       " 'k': 15529,\n",
       " '\\\\cot': 3054,\n",
       " '6': 41430,\n",
       " '-': 95328,\n",
       " 'd': 43872,\n",
       " 'w': 29988,\n",
       " '0': 19058,\n",
       " '\\\\right|': 4379,\n",
       " '\\\\log': 15142,\n",
       " '\\\\left(': 53827,\n",
       " 'v': 15385,\n",
       " '9': 42361,\n",
       " '1': 34899,\n",
       " '3': 62382,\n",
       " '\\\\ln': 10902,\n",
       " '\\\\cos': 28533,\n",
       " 'a': 15536,\n",
       " 'z': 16153,\n",
       " '\\\\sqrt': 12080,\n",
       " 'b': 15452,\n",
       " '5': 41501,\n",
       " 's': 13956,\n",
       " 't': 26154,\n",
       " 'r': 14650,\n",
       " '\\\\infty': 21064,\n",
       " '\\\\csc': 6788,\n",
       " 'e': 6376,\n",
       " 'n': 11814,\n",
       " '\\\\sec': 11503,\n",
       " '\\\\cdot': 1256,\n",
       " '\\\\left|': 4378,\n",
       " '.': 55}"
      ]
     },
     "execution_count": 7,
     "metadata": {},
     "output_type": "execute_result"
    }
   ],
   "source": [
    "chars_amount"
   ]
  },
  {
   "cell_type": "code",
   "execution_count": 8,
   "id": "30521650-8a95-4f2d-aab3-a86e093238da",
   "metadata": {},
   "outputs": [],
   "source": [
    "augmentation_list = ['.', \n",
    "                     '\\\\left|', \n",
    "                     'e', \n",
    "                     '\\\\csc', \n",
    "                     '\\\\right|', \n",
    "                     '\\\\cot', \n",
    "                     '=', \n",
    "                     '\\\\ln', \n",
    "                     '\\\\sqrt', \n",
    "                     '\\\\sec', \n",
    "                     'n', \n",
    "                     'r',\n",
    "                     's', \n",
    "                     '\\\\sqrt',\n",
    "                     '\\\\cdot',\n",
    "                     '\\\\theta'\n",
    "                    ]"
   ]
  },
  {
   "cell_type": "code",
   "execution_count": 9,
   "id": "7dd23eb1-fde6-4590-8123-a81542d74a17",
   "metadata": {},
   "outputs": [],
   "source": [
    "def rotation(img, angle):\n",
    "    angle = int(random.uniform(-angle, angle))\n",
    "    h, w = img.shape[:2]\n",
    "    M = cv2.getRotationMatrix2D((int(w/2), int(h/2)), angle, 1)\n",
    "    img = cv2.warpAffine(img, M, (w, h))\n",
    "    return img"
   ]
  },
  {
   "cell_type": "code",
   "execution_count": 10,
   "id": "cc1e9b89-660e-4f0d-987c-b7912ef6eb07",
   "metadata": {},
   "outputs": [],
   "source": [
    "def brightness(img, low, high):\n",
    "    value1 = random.uniform(low, high)\n",
    "    value2 = random.uniform(low, high)\n",
    "    value3 = random.uniform(low, high)\n",
    "    hsv = cv2.cvtColor(img, cv2.COLOR_BGR2HSV)\n",
    "    hsv = np.array(hsv, dtype = np.float64)\n",
    "    hsv[:,:,0] = hsv[:,:,0]*value1\n",
    "    hsv[:,:,0][hsv[:,:,0]>255]  = 255\n",
    "    hsv[:,:,1] = hsv[:,:,1]*value2\n",
    "    hsv[:,:,1][hsv[:,:,1]>255]  = 255\n",
    "    hsv[:,:,2] = hsv[:,:,2]*value3\n",
    "    hsv[:,:,2][hsv[:,:,2]>255]  = 255\n",
    "    hsv = np.array(hsv, dtype = np.uint8)\n",
    "    img = cv2.cvtColor(hsv, cv2.COLOR_HSV2BGR)\n",
    "    return img"
   ]
  },
  {
   "cell_type": "code",
   "execution_count": 11,
   "id": "0d730cc1-35fa-476f-aec6-f303cde0288f",
   "metadata": {},
   "outputs": [],
   "source": [
    "for i in augmentation_list:\n",
    "    cicle_amount = int(15000/chars_amount[i]) + 1\n",
    "    for j in range(1,amount_batches):\n",
    "        current_path_all_files = os.listdir(aida_batches_path+'/' + str(j))\n",
    "        for k in current_path_all_files:\n",
    "            if i == k.split('_')[0]:\n",
    "                \n",
    "                img = cv2.imread(aida_batches_path+'/' + str(j) + '/' + k)\n",
    "                for l in range(cicle_amount):\n",
    "                    path_exists_augment_path = aida_batches_path + str(amount_batches + new_batches)\n",
    "                    \n",
    "                \n",
    "                    new_img = brightness(img, 0.1, 3)\n",
    "                    \n",
    "                    chars_amount[i] += 1\n",
    "                    augmentated_amount += 1\n",
    "                    \n",
    "                    path_exists = os.path.exists(path_exists_augment_path)\n",
    "                    \n",
    "                    if not path_exists:\n",
    "                        os.mkdir(path_exists_augment_path)\n",
    "                    \n",
    "                    if augmentated_amount >= 10000:\n",
    "                        new_batches += 1\n",
    "                        path_exists_augment_path = aida_batches_path + str(amount_batches + new_batches)\n",
    "                        os.mkdir(path_exists_augment_path)\n",
    "                        augmentated_amount = 0\n",
    "                        \n",
    "                    cv2.imwrite(f'{path_exists_augment_path}/ {i}_{chars_amount[i]}.jpg', new_img)"
   ]
  },
  {
   "cell_type": "code",
   "execution_count": 8,
   "id": "b371525f-df3c-4d4a-b64d-12d4c932288b",
   "metadata": {},
   "outputs": [
    {
     "data": {
      "text/plain": [
       "{}"
      ]
     },
     "execution_count": 8,
     "metadata": {},
     "output_type": "execute_result"
    }
   ],
   "source": [
    "chars_amount"
   ]
  },
  {
   "cell_type": "code",
   "execution_count": 20,
   "id": "48718872-c054-4d90-afab-9c6291b25b29",
   "metadata": {},
   "outputs": [],
   "source": [
    "chars_amount['empty'] = 0"
   ]
  },
  {
   "cell_type": "code",
   "execution_count": 21,
   "id": "a63107d5-b289-4aac-a077-62c575f99b4c",
   "metadata": {},
   "outputs": [],
   "source": [
    "import matplotlib.pyplot as plt"
   ]
  },
  {
   "cell_type": "code",
   "execution_count": 23,
   "id": "0670115a-3ba9-4110-9389-42382f95adbb",
   "metadata": {},
   "outputs": [],
   "source": [
    "os.mkdir(f'{aida_batches_path}{226}')\n",
    "for i in range(15000):    \n",
    "    rand_num = np.random.randint(low=0, high=255, size=[32,32])\n",
    "    img = np.array([rand_num,rand_num,rand_num])\n",
    "    img = np.reshape(img, (32,32,3))\n",
    "\n",
    "    cv2.imwrite(f'{aida_batches_path}{226}/empty_{i}.jpg', img)\n",
    "    chars_amount['empty'] += 1"
   ]
  },
  {
   "cell_type": "code",
   "execution_count": null,
   "id": "5d451a84-61d4-4fa5-b65c-6598599c2a60",
   "metadata": {},
   "outputs": [],
   "source": []
  }
 ],
 "metadata": {
  "kernelspec": {
   "display_name": "Python 3 (ipykernel)",
   "language": "python",
   "name": "python3"
  },
  "language_info": {
   "codemirror_mode": {
    "name": "ipython",
    "version": 3
   },
   "file_extension": ".py",
   "mimetype": "text/x-python",
   "name": "python",
   "nbconvert_exporter": "python",
   "pygments_lexer": "ipython3",
   "version": "3.11.4"
  }
 },
 "nbformat": 4,
 "nbformat_minor": 5
}
